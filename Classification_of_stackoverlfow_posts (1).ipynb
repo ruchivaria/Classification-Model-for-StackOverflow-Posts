{
 "cells": [
  {
   "cell_type": "markdown",
   "metadata": {},
   "source": [
    "## Import Libraries"
   ]
  },
  {
   "cell_type": "code",
   "execution_count": 265,
   "metadata": {},
   "outputs": [],
   "source": [
    "import pandas as pd\n",
    "import numpy as np\n",
    "from datetime import datetime\n",
    "from sklearn.model_selection import train_test_split\n",
    "from sklearn.naive_bayes import GaussianNB\n",
    "from sklearn.linear_model import SGDClassifier\n",
    "from sklearn.linear_model import LogisticRegression\n",
    "from sklearn.metrics import accuracy_score, classification_report\n",
    "from sklearn.metrics import classification_report\n",
    "import matplotlib.pyplot as plt\n",
    "import seaborn as sns"
   ]
  },
  {
   "cell_type": "markdown",
   "metadata": {},
   "source": [
    "## Reading dataset"
   ]
  },
  {
   "cell_type": "code",
   "execution_count": 266,
   "metadata": {},
   "outputs": [],
   "source": [
    "data = pd.read_json(\"stackoverflow-data-idf.json\",lines=True)"
   ]
  },
  {
   "cell_type": "markdown",
   "metadata": {},
   "source": [
    "## Data consist of 20000 rows and 19 columns"
   ]
  },
  {
   "cell_type": "code",
   "execution_count": 267,
   "metadata": {},
   "outputs": [
    {
     "data": {
      "text/html": [
       "<div>\n",
       "<style scoped>\n",
       "    .dataframe tbody tr th:only-of-type {\n",
       "        vertical-align: middle;\n",
       "    }\n",
       "\n",
       "    .dataframe tbody tr th {\n",
       "        vertical-align: top;\n",
       "    }\n",
       "\n",
       "    .dataframe thead th {\n",
       "        text-align: right;\n",
       "    }\n",
       "</style>\n",
       "<table border=\"1\" class=\"dataframe\">\n",
       "  <thead>\n",
       "    <tr style=\"text-align: right;\">\n",
       "      <th></th>\n",
       "      <th>id</th>\n",
       "      <th>title</th>\n",
       "      <th>body</th>\n",
       "      <th>answer_count</th>\n",
       "      <th>comment_count</th>\n",
       "      <th>creation_date</th>\n",
       "      <th>last_activity_date</th>\n",
       "      <th>last_editor_display_name</th>\n",
       "      <th>owner_display_name</th>\n",
       "      <th>owner_user_id</th>\n",
       "      <th>post_type_id</th>\n",
       "      <th>score</th>\n",
       "      <th>tags</th>\n",
       "      <th>view_count</th>\n",
       "      <th>accepted_answer_id</th>\n",
       "      <th>favorite_count</th>\n",
       "      <th>last_edit_date</th>\n",
       "      <th>last_editor_user_id</th>\n",
       "      <th>community_owned_date</th>\n",
       "    </tr>\n",
       "  </thead>\n",
       "  <tbody>\n",
       "    <tr>\n",
       "      <th>0</th>\n",
       "      <td>4821394</td>\n",
       "      <td>Serializing a private struct - Can it be done?</td>\n",
       "      <td>&lt;p&gt;I have a public class that contains a priva...</td>\n",
       "      <td>1</td>\n",
       "      <td>0</td>\n",
       "      <td>2011-01-27 20:19:13.563 UTC</td>\n",
       "      <td>2011-01-27 20:21:37.59 UTC</td>\n",
       "      <td></td>\n",
       "      <td></td>\n",
       "      <td>163534.0</td>\n",
       "      <td>1</td>\n",
       "      <td>0</td>\n",
       "      <td>c#|serialization|xml-serialization</td>\n",
       "      <td>296</td>\n",
       "      <td>NaN</td>\n",
       "      <td>NaN</td>\n",
       "      <td>NaN</td>\n",
       "      <td>NaN</td>\n",
       "      <td>NaN</td>\n",
       "    </tr>\n",
       "    <tr>\n",
       "      <th>1</th>\n",
       "      <td>3367882</td>\n",
       "      <td>How do I prevent floated-right content from ov...</td>\n",
       "      <td>&lt;p&gt;I have the following HTML:&lt;/p&gt;\\n\\n&lt;pre&gt;&lt;cod...</td>\n",
       "      <td>2</td>\n",
       "      <td>2</td>\n",
       "      <td>2010-07-30 00:01:50.9 UTC</td>\n",
       "      <td>2012-05-10 14:16:05.143 UTC</td>\n",
       "      <td></td>\n",
       "      <td></td>\n",
       "      <td>1190.0</td>\n",
       "      <td>1</td>\n",
       "      <td>2</td>\n",
       "      <td>css|overflow|css-float|crop</td>\n",
       "      <td>4121</td>\n",
       "      <td>3367943.0</td>\n",
       "      <td>0.0</td>\n",
       "      <td>2012-05-10 14:16:05.143 UTC</td>\n",
       "      <td>44390.0</td>\n",
       "      <td>NaN</td>\n",
       "    </tr>\n",
       "    <tr>\n",
       "      <th>2</th>\n",
       "      <td>31682135</td>\n",
       "      <td>Gradle command line</td>\n",
       "      <td>&lt;p&gt;I'm trying to run a shell script with gradl...</td>\n",
       "      <td>0</td>\n",
       "      <td>2</td>\n",
       "      <td>2015-07-28 16:30:18.28 UTC</td>\n",
       "      <td>2015-07-28 16:32:15.117 UTC</td>\n",
       "      <td></td>\n",
       "      <td></td>\n",
       "      <td>1299158.0</td>\n",
       "      <td>1</td>\n",
       "      <td>1</td>\n",
       "      <td>bash|shell|android-studio|gradle</td>\n",
       "      <td>259</td>\n",
       "      <td>NaN</td>\n",
       "      <td>NaN</td>\n",
       "      <td>NaN</td>\n",
       "      <td>NaN</td>\n",
       "      <td>NaN</td>\n",
       "    </tr>\n",
       "    <tr>\n",
       "      <th>3</th>\n",
       "      <td>20218536</td>\n",
       "      <td>Loop variable as parameter in asynchronous fun...</td>\n",
       "      <td>&lt;p&gt;I have an object with the following form.&lt;/...</td>\n",
       "      <td>1</td>\n",
       "      <td>1</td>\n",
       "      <td>2013-11-26 13:34:49.957 UTC</td>\n",
       "      <td>2013-11-26 15:07:50.8 UTC</td>\n",
       "      <td></td>\n",
       "      <td></td>\n",
       "      <td>642751.0</td>\n",
       "      <td>1</td>\n",
       "      <td>0</td>\n",
       "      <td>javascript|asynchronous|foreach|async.js</td>\n",
       "      <td>120</td>\n",
       "      <td>NaN</td>\n",
       "      <td>1.0</td>\n",
       "      <td>2013-11-26 15:02:47.993 UTC</td>\n",
       "      <td>1333873.0</td>\n",
       "      <td>NaN</td>\n",
       "    </tr>\n",
       "    <tr>\n",
       "      <th>4</th>\n",
       "      <td>19941459</td>\n",
       "      <td>Canot get the href value</td>\n",
       "      <td>&lt;p&gt;Hi I need to valid the href is empty or not...</td>\n",
       "      <td>5</td>\n",
       "      <td>1</td>\n",
       "      <td>2013-11-12 22:41:36.11 UTC</td>\n",
       "      <td>2013-11-12 23:48:34.67 UTC</td>\n",
       "      <td></td>\n",
       "      <td></td>\n",
       "      <td>819774.0</td>\n",
       "      <td>1</td>\n",
       "      <td>0</td>\n",
       "      <td>javascript</td>\n",
       "      <td>97</td>\n",
       "      <td>19941620.0</td>\n",
       "      <td>NaN</td>\n",
       "      <td>2013-11-12 22:43:42.97 UTC</td>\n",
       "      <td>21886.0</td>\n",
       "      <td>NaN</td>\n",
       "    </tr>\n",
       "  </tbody>\n",
       "</table>\n",
       "</div>"
      ],
      "text/plain": [
       "         id                                              title  \\\n",
       "0   4821394     Serializing a private struct - Can it be done?   \n",
       "1   3367882  How do I prevent floated-right content from ov...   \n",
       "2  31682135                                Gradle command line   \n",
       "3  20218536  Loop variable as parameter in asynchronous fun...   \n",
       "4  19941459                           Canot get the href value   \n",
       "\n",
       "                                                body  answer_count  \\\n",
       "0  <p>I have a public class that contains a priva...             1   \n",
       "1  <p>I have the following HTML:</p>\\n\\n<pre><cod...             2   \n",
       "2  <p>I'm trying to run a shell script with gradl...             0   \n",
       "3  <p>I have an object with the following form.</...             1   \n",
       "4  <p>Hi I need to valid the href is empty or not...             5   \n",
       "\n",
       "   comment_count                creation_date           last_activity_date  \\\n",
       "0              0  2011-01-27 20:19:13.563 UTC   2011-01-27 20:21:37.59 UTC   \n",
       "1              2    2010-07-30 00:01:50.9 UTC  2012-05-10 14:16:05.143 UTC   \n",
       "2              2   2015-07-28 16:30:18.28 UTC  2015-07-28 16:32:15.117 UTC   \n",
       "3              1  2013-11-26 13:34:49.957 UTC    2013-11-26 15:07:50.8 UTC   \n",
       "4              1   2013-11-12 22:41:36.11 UTC   2013-11-12 23:48:34.67 UTC   \n",
       "\n",
       "  last_editor_display_name owner_display_name  owner_user_id  post_type_id  \\\n",
       "0                                                   163534.0             1   \n",
       "1                                                     1190.0             1   \n",
       "2                                                  1299158.0             1   \n",
       "3                                                   642751.0             1   \n",
       "4                                                   819774.0             1   \n",
       "\n",
       "   score                                      tags  view_count  \\\n",
       "0      0        c#|serialization|xml-serialization         296   \n",
       "1      2               css|overflow|css-float|crop        4121   \n",
       "2      1          bash|shell|android-studio|gradle         259   \n",
       "3      0  javascript|asynchronous|foreach|async.js         120   \n",
       "4      0                                javascript          97   \n",
       "\n",
       "   accepted_answer_id  favorite_count               last_edit_date  \\\n",
       "0                 NaN             NaN                          NaN   \n",
       "1           3367943.0             0.0  2012-05-10 14:16:05.143 UTC   \n",
       "2                 NaN             NaN                          NaN   \n",
       "3                 NaN             1.0  2013-11-26 15:02:47.993 UTC   \n",
       "4          19941620.0             NaN   2013-11-12 22:43:42.97 UTC   \n",
       "\n",
       "   last_editor_user_id community_owned_date  \n",
       "0                  NaN                  NaN  \n",
       "1              44390.0                  NaN  \n",
       "2                  NaN                  NaN  \n",
       "3            1333873.0                  NaN  \n",
       "4              21886.0                  NaN  "
      ]
     },
     "execution_count": 267,
     "metadata": {},
     "output_type": "execute_result"
    }
   ],
   "source": [
    "data.head()"
   ]
  },
  {
   "cell_type": "markdown",
   "metadata": {},
   "source": [
    "## Removing  unimportant columns\n",
    "### 1. Names are not useful for our analysis\n",
    "### 2. Since we are using creation and edit date we do not need any other date\n",
    "### 3. Only answer and comment count are useful for our analysis, hence we dropping other count columns"
   ]
  },
  {
   "cell_type": "code",
   "execution_count": 268,
   "metadata": {},
   "outputs": [],
   "source": [
    "data = data.drop(columns=['body','title','last_editor_display_name','owner_display_name','score','last_editor_user_id','community_owned_date','favorite_count','post_type_id','last_activity_date'])"
   ]
  },
  {
   "cell_type": "markdown",
   "metadata": {},
   "source": [
    "## If creation date is less than 2015 and post view count is less than 50 then the post is obsolete \n",
    "## If creation date is more than 2015 and post view count is greater than 50 then post is new"
   ]
  },
  {
   "cell_type": "markdown",
   "metadata": {},
   "source": [
    "#### Understanding the datatype of creation date which is string "
   ]
  },
  {
   "cell_type": "code",
   "execution_count": 269,
   "metadata": {},
   "outputs": [
    {
     "data": {
      "text/plain": [
       "id                      int64\n",
       "answer_count            int64\n",
       "comment_count           int64\n",
       "creation_date          object\n",
       "owner_user_id         float64\n",
       "tags                   object\n",
       "view_count              int64\n",
       "accepted_answer_id    float64\n",
       "last_edit_date         object\n",
       "dtype: object"
      ]
     },
     "execution_count": 269,
     "metadata": {},
     "output_type": "execute_result"
    }
   ],
   "source": [
    "data.dtypes"
   ]
  },
  {
   "cell_type": "markdown",
   "metadata": {},
   "source": [
    "#### Converting string to datetime"
   ]
  },
  {
   "cell_type": "code",
   "execution_count": 270,
   "metadata": {},
   "outputs": [],
   "source": [
    "data['creation_date'] = pd.to_datetime(data['creation_date'])"
   ]
  },
  {
   "cell_type": "code",
   "execution_count": 271,
   "metadata": {},
   "outputs": [
    {
     "data": {
      "text/plain": [
       "id                                  int64\n",
       "answer_count                        int64\n",
       "comment_count                       int64\n",
       "creation_date         datetime64[ns, UTC]\n",
       "owner_user_id                     float64\n",
       "tags                               object\n",
       "view_count                          int64\n",
       "accepted_answer_id                float64\n",
       "last_edit_date                     object\n",
       "dtype: object"
      ]
     },
     "execution_count": 271,
     "metadata": {},
     "output_type": "execute_result"
    }
   ],
   "source": [
    "data.dtypes"
   ]
  },
  {
   "cell_type": "markdown",
   "metadata": {},
   "source": [
    "#### Extracting year from creation date "
   ]
  },
  {
   "cell_type": "code",
   "execution_count": 272,
   "metadata": {},
   "outputs": [],
   "source": [
    "data['Year'] = data['creation_date'].dt.year"
   ]
  },
  {
   "cell_type": "code",
   "execution_count": 273,
   "metadata": {},
   "outputs": [
    {
     "data": {
      "text/html": [
       "<div>\n",
       "<style scoped>\n",
       "    .dataframe tbody tr th:only-of-type {\n",
       "        vertical-align: middle;\n",
       "    }\n",
       "\n",
       "    .dataframe tbody tr th {\n",
       "        vertical-align: top;\n",
       "    }\n",
       "\n",
       "    .dataframe thead th {\n",
       "        text-align: right;\n",
       "    }\n",
       "</style>\n",
       "<table border=\"1\" class=\"dataframe\">\n",
       "  <thead>\n",
       "    <tr style=\"text-align: right;\">\n",
       "      <th></th>\n",
       "      <th>id</th>\n",
       "      <th>answer_count</th>\n",
       "      <th>comment_count</th>\n",
       "      <th>creation_date</th>\n",
       "      <th>owner_user_id</th>\n",
       "      <th>tags</th>\n",
       "      <th>view_count</th>\n",
       "      <th>accepted_answer_id</th>\n",
       "      <th>last_edit_date</th>\n",
       "      <th>Year</th>\n",
       "    </tr>\n",
       "  </thead>\n",
       "  <tbody>\n",
       "    <tr>\n",
       "      <th>0</th>\n",
       "      <td>4821394</td>\n",
       "      <td>1</td>\n",
       "      <td>0</td>\n",
       "      <td>2011-01-27 20:19:13.563000+00:00</td>\n",
       "      <td>163534.0</td>\n",
       "      <td>c#|serialization|xml-serialization</td>\n",
       "      <td>296</td>\n",
       "      <td>NaN</td>\n",
       "      <td>NaN</td>\n",
       "      <td>2011</td>\n",
       "    </tr>\n",
       "    <tr>\n",
       "      <th>1</th>\n",
       "      <td>3367882</td>\n",
       "      <td>2</td>\n",
       "      <td>2</td>\n",
       "      <td>2010-07-30 00:01:50.900000+00:00</td>\n",
       "      <td>1190.0</td>\n",
       "      <td>css|overflow|css-float|crop</td>\n",
       "      <td>4121</td>\n",
       "      <td>3367943.0</td>\n",
       "      <td>2012-05-10 14:16:05.143 UTC</td>\n",
       "      <td>2010</td>\n",
       "    </tr>\n",
       "    <tr>\n",
       "      <th>2</th>\n",
       "      <td>31682135</td>\n",
       "      <td>0</td>\n",
       "      <td>2</td>\n",
       "      <td>2015-07-28 16:30:18.280000+00:00</td>\n",
       "      <td>1299158.0</td>\n",
       "      <td>bash|shell|android-studio|gradle</td>\n",
       "      <td>259</td>\n",
       "      <td>NaN</td>\n",
       "      <td>NaN</td>\n",
       "      <td>2015</td>\n",
       "    </tr>\n",
       "    <tr>\n",
       "      <th>3</th>\n",
       "      <td>20218536</td>\n",
       "      <td>1</td>\n",
       "      <td>1</td>\n",
       "      <td>2013-11-26 13:34:49.957000+00:00</td>\n",
       "      <td>642751.0</td>\n",
       "      <td>javascript|asynchronous|foreach|async.js</td>\n",
       "      <td>120</td>\n",
       "      <td>NaN</td>\n",
       "      <td>2013-11-26 15:02:47.993 UTC</td>\n",
       "      <td>2013</td>\n",
       "    </tr>\n",
       "    <tr>\n",
       "      <th>4</th>\n",
       "      <td>19941459</td>\n",
       "      <td>5</td>\n",
       "      <td>1</td>\n",
       "      <td>2013-11-12 22:41:36.110000+00:00</td>\n",
       "      <td>819774.0</td>\n",
       "      <td>javascript</td>\n",
       "      <td>97</td>\n",
       "      <td>19941620.0</td>\n",
       "      <td>2013-11-12 22:43:42.97 UTC</td>\n",
       "      <td>2013</td>\n",
       "    </tr>\n",
       "    <tr>\n",
       "      <th>...</th>\n",
       "      <td>...</td>\n",
       "      <td>...</td>\n",
       "      <td>...</td>\n",
       "      <td>...</td>\n",
       "      <td>...</td>\n",
       "      <td>...</td>\n",
       "      <td>...</td>\n",
       "      <td>...</td>\n",
       "      <td>...</td>\n",
       "      <td>...</td>\n",
       "    </tr>\n",
       "    <tr>\n",
       "      <th>19995</th>\n",
       "      <td>45643057</td>\n",
       "      <td>0</td>\n",
       "      <td>1</td>\n",
       "      <td>2017-08-11 20:10:22.387000+00:00</td>\n",
       "      <td>8450318.0</td>\n",
       "      <td>c#|winforms|cmd|telnet</td>\n",
       "      <td>28</td>\n",
       "      <td>NaN</td>\n",
       "      <td>2017-08-11 22:00:08.853 UTC</td>\n",
       "      <td>2017</td>\n",
       "    </tr>\n",
       "    <tr>\n",
       "      <th>19996</th>\n",
       "      <td>18079413</td>\n",
       "      <td>0</td>\n",
       "      <td>0</td>\n",
       "      <td>2013-08-06 11:51:37.463000+00:00</td>\n",
       "      <td>1939409.0</td>\n",
       "      <td>android|ios|ipad|xamarin.ios|xamarin.android</td>\n",
       "      <td>80</td>\n",
       "      <td>NaN</td>\n",
       "      <td>NaN</td>\n",
       "      <td>2013</td>\n",
       "    </tr>\n",
       "    <tr>\n",
       "      <th>19997</th>\n",
       "      <td>39977022</td>\n",
       "      <td>0</td>\n",
       "      <td>0</td>\n",
       "      <td>2016-10-11 12:14:43.260000+00:00</td>\n",
       "      <td>4102561.0</td>\n",
       "      <td>typescript|atom-editor</td>\n",
       "      <td>18</td>\n",
       "      <td>NaN</td>\n",
       "      <td>2017-01-18 18:41:16.67 UTC</td>\n",
       "      <td>2016</td>\n",
       "    </tr>\n",
       "    <tr>\n",
       "      <th>19998</th>\n",
       "      <td>33328431</td>\n",
       "      <td>3</td>\n",
       "      <td>3</td>\n",
       "      <td>2015-10-25 10:03:00.587000+00:00</td>\n",
       "      <td>4195815.0</td>\n",
       "      <td>angularjs</td>\n",
       "      <td>164</td>\n",
       "      <td>NaN</td>\n",
       "      <td>NaN</td>\n",
       "      <td>2015</td>\n",
       "    </tr>\n",
       "    <tr>\n",
       "      <th>19999</th>\n",
       "      <td>40875741</td>\n",
       "      <td>0</td>\n",
       "      <td>2</td>\n",
       "      <td>2016-11-29 21:05:32.677000+00:00</td>\n",
       "      <td>3689147.0</td>\n",
       "      <td>python|qt|drag-and-drop|pyqt|pyside</td>\n",
       "      <td>72</td>\n",
       "      <td>NaN</td>\n",
       "      <td>2016-12-01 23:44:18.007 UTC</td>\n",
       "      <td>2016</td>\n",
       "    </tr>\n",
       "  </tbody>\n",
       "</table>\n",
       "<p>20000 rows × 10 columns</p>\n",
       "</div>"
      ],
      "text/plain": [
       "             id  answer_count  comment_count                    creation_date  \\\n",
       "0       4821394             1              0 2011-01-27 20:19:13.563000+00:00   \n",
       "1       3367882             2              2 2010-07-30 00:01:50.900000+00:00   \n",
       "2      31682135             0              2 2015-07-28 16:30:18.280000+00:00   \n",
       "3      20218536             1              1 2013-11-26 13:34:49.957000+00:00   \n",
       "4      19941459             5              1 2013-11-12 22:41:36.110000+00:00   \n",
       "...         ...           ...            ...                              ...   \n",
       "19995  45643057             0              1 2017-08-11 20:10:22.387000+00:00   \n",
       "19996  18079413             0              0 2013-08-06 11:51:37.463000+00:00   \n",
       "19997  39977022             0              0 2016-10-11 12:14:43.260000+00:00   \n",
       "19998  33328431             3              3 2015-10-25 10:03:00.587000+00:00   \n",
       "19999  40875741             0              2 2016-11-29 21:05:32.677000+00:00   \n",
       "\n",
       "       owner_user_id                                          tags  \\\n",
       "0           163534.0            c#|serialization|xml-serialization   \n",
       "1             1190.0                   css|overflow|css-float|crop   \n",
       "2          1299158.0              bash|shell|android-studio|gradle   \n",
       "3           642751.0      javascript|asynchronous|foreach|async.js   \n",
       "4           819774.0                                    javascript   \n",
       "...              ...                                           ...   \n",
       "19995      8450318.0                        c#|winforms|cmd|telnet   \n",
       "19996      1939409.0  android|ios|ipad|xamarin.ios|xamarin.android   \n",
       "19997      4102561.0                        typescript|atom-editor   \n",
       "19998      4195815.0                                     angularjs   \n",
       "19999      3689147.0           python|qt|drag-and-drop|pyqt|pyside   \n",
       "\n",
       "       view_count  accepted_answer_id               last_edit_date  Year  \n",
       "0             296                 NaN                          NaN  2011  \n",
       "1            4121           3367943.0  2012-05-10 14:16:05.143 UTC  2010  \n",
       "2             259                 NaN                          NaN  2015  \n",
       "3             120                 NaN  2013-11-26 15:02:47.993 UTC  2013  \n",
       "4              97          19941620.0   2013-11-12 22:43:42.97 UTC  2013  \n",
       "...           ...                 ...                          ...   ...  \n",
       "19995          28                 NaN  2017-08-11 22:00:08.853 UTC  2017  \n",
       "19996          80                 NaN                          NaN  2013  \n",
       "19997          18                 NaN   2017-01-18 18:41:16.67 UTC  2016  \n",
       "19998         164                 NaN                          NaN  2015  \n",
       "19999          72                 NaN  2016-12-01 23:44:18.007 UTC  2016  \n",
       "\n",
       "[20000 rows x 10 columns]"
      ]
     },
     "execution_count": 273,
     "metadata": {},
     "output_type": "execute_result"
    }
   ],
   "source": [
    "data"
   ]
  },
  {
   "cell_type": "markdown",
   "metadata": {},
   "source": [
    "#### 0 - new\n",
    "#### 1 - obsolete"
   ]
  },
  {
   "cell_type": "code",
   "execution_count": 274,
   "metadata": {},
   "outputs": [],
   "source": [
    "new_old = []\n",
    "for index,row in data.iterrows():\n",
    "    if (row[9] > 2015) and (row[6] > 50):\n",
    "        new_old.append(0)\n",
    "    else:\n",
    "        new_old.append(1)"
   ]
  },
  {
   "cell_type": "markdown",
   "metadata": {},
   "source": [
    "#### Addding new column post type (0 - new snd 1 - absolete)"
   ]
  },
  {
   "cell_type": "code",
   "execution_count": 275,
   "metadata": {},
   "outputs": [],
   "source": [
    "data['POST_TYPE'] = new_old"
   ]
  },
  {
   "cell_type": "code",
   "execution_count": 276,
   "metadata": {},
   "outputs": [
    {
     "data": {
      "text/plain": [
       "1    16082\n",
       "0     3918\n",
       "Name: POST_TYPE, dtype: int64"
      ]
     },
     "execution_count": 276,
     "metadata": {},
     "output_type": "execute_result"
    }
   ],
   "source": [
    "data.POST_TYPE.value_counts()"
   ]
  },
  {
   "cell_type": "markdown",
   "metadata": {},
   "source": [
    "## Finding correlation of other columns with Post type"
   ]
  },
  {
   "cell_type": "code",
   "execution_count": 277,
   "metadata": {},
   "outputs": [
    {
     "data": {
      "text/html": [
       "<div>\n",
       "<style scoped>\n",
       "    .dataframe tbody tr th:only-of-type {\n",
       "        vertical-align: middle;\n",
       "    }\n",
       "\n",
       "    .dataframe tbody tr th {\n",
       "        vertical-align: top;\n",
       "    }\n",
       "\n",
       "    .dataframe thead th {\n",
       "        text-align: right;\n",
       "    }\n",
       "</style>\n",
       "<table border=\"1\" class=\"dataframe\">\n",
       "  <thead>\n",
       "    <tr style=\"text-align: right;\">\n",
       "      <th></th>\n",
       "      <th>id</th>\n",
       "      <th>answer_count</th>\n",
       "      <th>comment_count</th>\n",
       "      <th>owner_user_id</th>\n",
       "      <th>view_count</th>\n",
       "      <th>accepted_answer_id</th>\n",
       "      <th>Year</th>\n",
       "      <th>POST_TYPE</th>\n",
       "    </tr>\n",
       "  </thead>\n",
       "  <tbody>\n",
       "    <tr>\n",
       "      <th>id</th>\n",
       "      <td>1.000000</td>\n",
       "      <td>-0.287694</td>\n",
       "      <td>0.095611</td>\n",
       "      <td>0.707181</td>\n",
       "      <td>-0.142146</td>\n",
       "      <td>0.997468</td>\n",
       "      <td>0.983921</td>\n",
       "      <td>-0.546873</td>\n",
       "    </tr>\n",
       "    <tr>\n",
       "      <th>answer_count</th>\n",
       "      <td>-0.287694</td>\n",
       "      <td>1.000000</td>\n",
       "      <td>0.064875</td>\n",
       "      <td>-0.192529</td>\n",
       "      <td>0.346643</td>\n",
       "      <td>-0.225833</td>\n",
       "      <td>-0.305125</td>\n",
       "      <td>0.081816</td>\n",
       "    </tr>\n",
       "    <tr>\n",
       "      <th>comment_count</th>\n",
       "      <td>0.095611</td>\n",
       "      <td>0.064875</td>\n",
       "      <td>1.000000</td>\n",
       "      <td>0.093141</td>\n",
       "      <td>0.012623</td>\n",
       "      <td>0.097289</td>\n",
       "      <td>0.102040</td>\n",
       "      <td>-0.065409</td>\n",
       "    </tr>\n",
       "    <tr>\n",
       "      <th>owner_user_id</th>\n",
       "      <td>0.707181</td>\n",
       "      <td>-0.192529</td>\n",
       "      <td>0.093141</td>\n",
       "      <td>1.000000</td>\n",
       "      <td>-0.102576</td>\n",
       "      <td>0.711468</td>\n",
       "      <td>0.691075</td>\n",
       "      <td>-0.374763</td>\n",
       "    </tr>\n",
       "    <tr>\n",
       "      <th>view_count</th>\n",
       "      <td>-0.142146</td>\n",
       "      <td>0.346643</td>\n",
       "      <td>0.012623</td>\n",
       "      <td>-0.102576</td>\n",
       "      <td>1.000000</td>\n",
       "      <td>-0.139075</td>\n",
       "      <td>-0.151212</td>\n",
       "      <td>0.058164</td>\n",
       "    </tr>\n",
       "    <tr>\n",
       "      <th>accepted_answer_id</th>\n",
       "      <td>0.997468</td>\n",
       "      <td>-0.225833</td>\n",
       "      <td>0.097289</td>\n",
       "      <td>0.711468</td>\n",
       "      <td>-0.139075</td>\n",
       "      <td>1.000000</td>\n",
       "      <td>0.980063</td>\n",
       "      <td>-0.595255</td>\n",
       "    </tr>\n",
       "    <tr>\n",
       "      <th>Year</th>\n",
       "      <td>0.983921</td>\n",
       "      <td>-0.305125</td>\n",
       "      <td>0.102040</td>\n",
       "      <td>0.691075</td>\n",
       "      <td>-0.151212</td>\n",
       "      <td>0.980063</td>\n",
       "      <td>1.000000</td>\n",
       "      <td>-0.533422</td>\n",
       "    </tr>\n",
       "    <tr>\n",
       "      <th>POST_TYPE</th>\n",
       "      <td>-0.546873</td>\n",
       "      <td>0.081816</td>\n",
       "      <td>-0.065409</td>\n",
       "      <td>-0.374763</td>\n",
       "      <td>0.058164</td>\n",
       "      <td>-0.595255</td>\n",
       "      <td>-0.533422</td>\n",
       "      <td>1.000000</td>\n",
       "    </tr>\n",
       "  </tbody>\n",
       "</table>\n",
       "</div>"
      ],
      "text/plain": [
       "                          id  answer_count  comment_count  owner_user_id  \\\n",
       "id                  1.000000     -0.287694       0.095611       0.707181   \n",
       "answer_count       -0.287694      1.000000       0.064875      -0.192529   \n",
       "comment_count       0.095611      0.064875       1.000000       0.093141   \n",
       "owner_user_id       0.707181     -0.192529       0.093141       1.000000   \n",
       "view_count         -0.142146      0.346643       0.012623      -0.102576   \n",
       "accepted_answer_id  0.997468     -0.225833       0.097289       0.711468   \n",
       "Year                0.983921     -0.305125       0.102040       0.691075   \n",
       "POST_TYPE          -0.546873      0.081816      -0.065409      -0.374763   \n",
       "\n",
       "                    view_count  accepted_answer_id      Year  POST_TYPE  \n",
       "id                   -0.142146            0.997468  0.983921  -0.546873  \n",
       "answer_count          0.346643           -0.225833 -0.305125   0.081816  \n",
       "comment_count         0.012623            0.097289  0.102040  -0.065409  \n",
       "owner_user_id        -0.102576            0.711468  0.691075  -0.374763  \n",
       "view_count            1.000000           -0.139075 -0.151212   0.058164  \n",
       "accepted_answer_id   -0.139075            1.000000  0.980063  -0.595255  \n",
       "Year                 -0.151212            0.980063  1.000000  -0.533422  \n",
       "POST_TYPE             0.058164           -0.595255 -0.533422   1.000000  "
      ]
     },
     "execution_count": 277,
     "metadata": {},
     "output_type": "execute_result"
    }
   ],
   "source": [
    "data.corr()"
   ]
  },
  {
   "cell_type": "code",
   "execution_count": 278,
   "metadata": {},
   "outputs": [
    {
     "data": {
      "text/plain": [
       "<AxesSubplot:>"
      ]
     },
     "execution_count": 278,
     "metadata": {},
     "output_type": "execute_result"
    },
    {
     "data": {
      "image/png": "[encoded data removed]",
      "text/plain": [
       "<Figure size 432x288 with 2 Axes>"
      ]
     },
     "metadata": {
      "needs_background": "light"
     },
     "output_type": "display_data"
    }
   ],
   "source": [
    "sns.heatmap(data.corr())"
   ]
  },
  {
   "cell_type": "markdown",
   "metadata": {},
   "source": [
    "## Most correlated columns are \n",
    "##### 1. answer_count\n",
    "##### 2. comment_count\n",
    "##### 3. view_count\n",
    "##### 4. Year"
   ]
  },
  {
   "cell_type": "markdown",
   "metadata": {},
   "source": [
    "## Creating dependent and Independent Variables"
   ]
  },
  {
   "cell_type": "code",
   "execution_count": 279,
   "metadata": {},
   "outputs": [],
   "source": [
    "X = data.iloc[:,[1,2,6,9]]\n",
    "y = data.iloc[:,-1]"
   ]
  },
  {
   "cell_type": "code",
   "execution_count": 280,
   "metadata": {},
   "outputs": [
    {
     "data": {
      "text/html": [
       "<div>\n",
       "<style scoped>\n",
       "    .dataframe tbody tr th:only-of-type {\n",
       "        vertical-align: middle;\n",
       "    }\n",
       "\n",
       "    .dataframe tbody tr th {\n",
       "        vertical-align: top;\n",
       "    }\n",
       "\n",
       "    .dataframe thead th {\n",
       "        text-align: right;\n",
       "    }\n",
       "</style>\n",
       "<table border=\"1\" class=\"dataframe\">\n",
       "  <thead>\n",
       "    <tr style=\"text-align: right;\">\n",
       "      <th></th>\n",
       "      <th>answer_count</th>\n",
       "      <th>comment_count</th>\n",
       "      <th>view_count</th>\n",
       "      <th>Year</th>\n",
       "    </tr>\n",
       "  </thead>\n",
       "  <tbody>\n",
       "    <tr>\n",
       "      <th>0</th>\n",
       "      <td>1</td>\n",
       "      <td>0</td>\n",
       "      <td>296</td>\n",
       "      <td>2011</td>\n",
       "    </tr>\n",
       "    <tr>\n",
       "      <th>1</th>\n",
       "      <td>2</td>\n",
       "      <td>2</td>\n",
       "      <td>4121</td>\n",
       "      <td>2010</td>\n",
       "    </tr>\n",
       "    <tr>\n",
       "      <th>2</th>\n",
       "      <td>0</td>\n",
       "      <td>2</td>\n",
       "      <td>259</td>\n",
       "      <td>2015</td>\n",
       "    </tr>\n",
       "    <tr>\n",
       "      <th>3</th>\n",
       "      <td>1</td>\n",
       "      <td>1</td>\n",
       "      <td>120</td>\n",
       "      <td>2013</td>\n",
       "    </tr>\n",
       "    <tr>\n",
       "      <th>4</th>\n",
       "      <td>5</td>\n",
       "      <td>1</td>\n",
       "      <td>97</td>\n",
       "      <td>2013</td>\n",
       "    </tr>\n",
       "    <tr>\n",
       "      <th>...</th>\n",
       "      <td>...</td>\n",
       "      <td>...</td>\n",
       "      <td>...</td>\n",
       "      <td>...</td>\n",
       "    </tr>\n",
       "    <tr>\n",
       "      <th>19995</th>\n",
       "      <td>0</td>\n",
       "      <td>1</td>\n",
       "      <td>28</td>\n",
       "      <td>2017</td>\n",
       "    </tr>\n",
       "    <tr>\n",
       "      <th>19996</th>\n",
       "      <td>0</td>\n",
       "      <td>0</td>\n",
       "      <td>80</td>\n",
       "      <td>2013</td>\n",
       "    </tr>\n",
       "    <tr>\n",
       "      <th>19997</th>\n",
       "      <td>0</td>\n",
       "      <td>0</td>\n",
       "      <td>18</td>\n",
       "      <td>2016</td>\n",
       "    </tr>\n",
       "    <tr>\n",
       "      <th>19998</th>\n",
       "      <td>3</td>\n",
       "      <td>3</td>\n",
       "      <td>164</td>\n",
       "      <td>2015</td>\n",
       "    </tr>\n",
       "    <tr>\n",
       "      <th>19999</th>\n",
       "      <td>0</td>\n",
       "      <td>2</td>\n",
       "      <td>72</td>\n",
       "      <td>2016</td>\n",
       "    </tr>\n",
       "  </tbody>\n",
       "</table>\n",
       "<p>20000 rows × 4 columns</p>\n",
       "</div>"
      ],
      "text/plain": [
       "       answer_count  comment_count  view_count  Year\n",
       "0                 1              0         296  2011\n",
       "1                 2              2        4121  2010\n",
       "2                 0              2         259  2015\n",
       "3                 1              1         120  2013\n",
       "4                 5              1          97  2013\n",
       "...             ...            ...         ...   ...\n",
       "19995             0              1          28  2017\n",
       "19996             0              0          80  2013\n",
       "19997             0              0          18  2016\n",
       "19998             3              3         164  2015\n",
       "19999             0              2          72  2016\n",
       "\n",
       "[20000 rows x 4 columns]"
      ]
     },
     "execution_count": 280,
     "metadata": {},
     "output_type": "execute_result"
    }
   ],
   "source": [
    "X"
   ]
  },
  {
   "cell_type": "code",
   "execution_count": 281,
   "metadata": {},
   "outputs": [
    {
     "data": {
      "text/plain": [
       "0        1\n",
       "1        1\n",
       "2        1\n",
       "3        1\n",
       "4        1\n",
       "        ..\n",
       "19995    1\n",
       "19996    1\n",
       "19997    1\n",
       "19998    1\n",
       "19999    0\n",
       "Name: POST_TYPE, Length: 20000, dtype: int64"
      ]
     },
     "execution_count": 281,
     "metadata": {},
     "output_type": "execute_result"
    }
   ],
   "source": [
    "y"
   ]
  },
  {
   "cell_type": "markdown",
   "metadata": {},
   "source": [
    "## Splitting data into training and testing \n",
    "#### 70% training and 30% testing"
   ]
  },
  {
   "cell_type": "code",
   "execution_count": 282,
   "metadata": {},
   "outputs": [],
   "source": [
    "X_train,X_test,y_train,y_test = train_test_split(X,y,random_state=42,test_size=0.3)"
   ]
  },
  {
   "cell_type": "code",
   "execution_count": 283,
   "metadata": {},
   "outputs": [
    {
     "data": {
      "text/plain": [
       "17218    1\n",
       "15188    1\n",
       "11295    0\n",
       "19772    1\n",
       "13072    0\n",
       "        ..\n",
       "11284    1\n",
       "11964    1\n",
       "5390     1\n",
       "860      1\n",
       "15795    0\n",
       "Name: POST_TYPE, Length: 14000, dtype: int64"
      ]
     },
     "execution_count": 283,
     "metadata": {},
     "output_type": "execute_result"
    }
   ],
   "source": [
    "y_train"
   ]
  },
  {
   "cell_type": "markdown",
   "metadata": {},
   "source": [
    "## Gaussian Naives Bayes"
   ]
  },
  {
   "cell_type": "code",
   "execution_count": 284,
   "metadata": {},
   "outputs": [],
   "source": [
    "gnb = GaussianNB()"
   ]
  },
  {
   "cell_type": "code",
   "execution_count": 285,
   "metadata": {},
   "outputs": [],
   "source": [
    "model = gnb.fit(X_train,y_train)"
   ]
  },
  {
   "cell_type": "code",
   "execution_count": 286,
   "metadata": {},
   "outputs": [],
   "source": [
    "y_pred = model.predict(X_test)"
   ]
  },
  {
   "cell_type": "code",
   "execution_count": 287,
   "metadata": {},
   "outputs": [
    {
     "data": {
      "text/plain": [
       "array([1, 1, 1, ..., 0, 0, 1])"
      ]
     },
     "execution_count": 287,
     "metadata": {},
     "output_type": "execute_result"
    }
   ],
   "source": [
    "y_pred"
   ]
  },
  {
   "cell_type": "code",
   "execution_count": 288,
   "metadata": {},
   "outputs": [
    {
     "name": "stdout",
     "output_type": "stream",
     "text": [
      "Accuracy 0.8521666666666666\n",
      "              precision    recall  f1-score   support\n",
      "\n",
      "           0       0.57      0.98      0.72      1161\n",
      "           1       0.99      0.82      0.90      4839\n",
      "\n",
      "    accuracy                           0.85      6000\n",
      "   macro avg       0.78      0.90      0.81      6000\n",
      "weighted avg       0.91      0.85      0.86      6000\n",
      "\n"
     ]
    }
   ],
   "source": [
    "print('Accuracy %s' % accuracy_score(y_pred, y_test))\n",
    "print(classification_report(y_test, y_pred))"
   ]
  },
  {
   "cell_type": "markdown",
   "metadata": {},
   "source": [
    "## SGD Classifier"
   ]
  },
  {
   "cell_type": "code",
   "execution_count": 289,
   "metadata": {},
   "outputs": [],
   "source": [
    "sgd = SGDClassifier()"
   ]
  },
  {
   "cell_type": "code",
   "execution_count": 290,
   "metadata": {},
   "outputs": [],
   "source": [
    "model = sgd.fit(X_train,y_train)"
   ]
  },
  {
   "cell_type": "code",
   "execution_count": 291,
   "metadata": {},
   "outputs": [],
   "source": [
    "y_pred = model.predict(X_test)"
   ]
  },
  {
   "cell_type": "code",
   "execution_count": 292,
   "metadata": {},
   "outputs": [
    {
     "data": {
      "text/plain": [
       "array([1, 1, 1, ..., 1, 1, 1])"
      ]
     },
     "execution_count": 292,
     "metadata": {},
     "output_type": "execute_result"
    }
   ],
   "source": [
    "y_pred"
   ]
  },
  {
   "cell_type": "code",
   "execution_count": 293,
   "metadata": {},
   "outputs": [
    {
     "name": "stdout",
     "output_type": "stream",
     "text": [
      "Accuracy 0.8065\n",
      "              precision    recall  f1-score   support\n",
      "\n",
      "           0       0.00      0.00      0.00      1161\n",
      "           1       0.81      1.00      0.89      4839\n",
      "\n",
      "    accuracy                           0.81      6000\n",
      "   macro avg       0.40      0.50      0.45      6000\n",
      "weighted avg       0.65      0.81      0.72      6000\n",
      "\n"
     ]
    },
    {
     "name": "stderr",
     "output_type": "stream",
     "text": [
      "/Users/aviratbelekar/opt/anaconda3/lib/python3.8/site-packages/sklearn/metrics/_classification.py:1221: UndefinedMetricWarning: Precision and F-score are ill-defined and being set to 0.0 in labels with no predicted samples. Use `zero_division` parameter to control this behavior.\n",
      "  _warn_prf(average, modifier, msg_start, len(result))\n"
     ]
    }
   ],
   "source": [
    "print('Accuracy %s' % accuracy_score(y_pred, y_test))\n",
    "print(classification_report(y_test, y_pred))"
   ]
  },
  {
   "cell_type": "markdown",
   "metadata": {},
   "source": [
    "## Logistic Regression"
   ]
  },
  {
   "cell_type": "code",
   "execution_count": 294,
   "metadata": {},
   "outputs": [],
   "source": [
    "logistic = LogisticRegression()"
   ]
  },
  {
   "cell_type": "code",
   "execution_count": 295,
   "metadata": {},
   "outputs": [],
   "source": [
    "model = logistic.fit(X_train,y_train)"
   ]
  },
  {
   "cell_type": "code",
   "execution_count": 296,
   "metadata": {},
   "outputs": [],
   "source": [
    "y_pred = model.predict(X_test)"
   ]
  },
  {
   "cell_type": "code",
   "execution_count": 297,
   "metadata": {},
   "outputs": [
    {
     "data": {
      "text/plain": [
       "array([1, 1, 1, ..., 1, 1, 1])"
      ]
     },
     "execution_count": 297,
     "metadata": {},
     "output_type": "execute_result"
    }
   ],
   "source": [
    "y_pred"
   ]
  },
  {
   "cell_type": "code",
   "execution_count": 298,
   "metadata": {},
   "outputs": [
    {
     "name": "stdout",
     "output_type": "stream",
     "text": [
      "Accuracy 0.8068333333333333\n",
      "              precision    recall  f1-score   support\n",
      "\n",
      "           0       1.00      0.00      0.00      1161\n",
      "           1       0.81      1.00      0.89      4839\n",
      "\n",
      "    accuracy                           0.81      6000\n",
      "   macro avg       0.90      0.50      0.45      6000\n",
      "weighted avg       0.84      0.81      0.72      6000\n",
      "\n"
     ]
    }
   ],
   "source": [
    "print('Accuracy %s' % accuracy_score(y_pred, y_test))\n",
    "print(classification_report(y_test, y_pred))"
   ]
  },
  {
   "cell_type": "code",
   "execution_count": null,
   "metadata": {},
   "outputs": [],
   "source": []
  },
  {
   "cell_type": "code",
   "execution_count": null,
   "metadata": {},
   "outputs": [],
   "source": []
  }
 ],
 "metadata": {
  "kernelspec": {
   "display_name": "Python 3",
   "language": "python",
   "name": "python3"
  },
  "language_info": {
   "codemirror_mode": {
    "name": "ipython",
    "version": 3
   },
   "file_extension": ".py",
   "mimetype": "text/x-python",
   "name": "python",
   "nbconvert_exporter": "python",
   "pygments_lexer": "ipython3",
   "version": "3.8.5"
  }
 },
 "nbformat": 4,
 "nbformat_minor": 5
}
